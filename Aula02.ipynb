{
 "cells": [
  {
   "cell_type": "code",
   "execution_count": 9,
   "metadata": {},
   "outputs": [],
   "source": [
    "import pandas as pd\n",
    "\n",
    "uri = \"https://gist.githubusercontent.com/guilhermesilveira/2d2efa37d66b6c84a722ea627a897ced/raw/10968b997d885cbded1c92938c7a9912ba41c615/tracking.csv\"\n",
    "dados = pd.read_csv(uri)"
   ]
  },
  {
   "cell_type": "code",
   "execution_count": 15,
   "metadata": {},
   "outputs": [
    {
     "name": "stdout",
     "output_type": "stream",
     "text": [
      "    principal  como_funciona  contato  comprou\n",
      "0           1              1        0        0\n",
      "1           1              1        0        0\n",
      "2           1              1        0        0\n",
      "3           1              1        0        0\n",
      "4           1              1        0        0\n",
      "..        ...            ...      ...      ...\n",
      "94          0              0        1        0\n",
      "95          1              1        1        1\n",
      "96          0              0        1        0\n",
      "97          0              1        0        0\n",
      "98          0              0        0        0\n",
      "\n",
      "[99 rows x 4 columns]\n"
     ]
    }
   ],
   "source": [
    "mapa = {\n",
    "    \"home\" : \"principal\",\n",
    "    \"how_it_works\" : \"como_funciona\",\n",
    "    \"contact\" : \"contato\",\n",
    "    \"bought\" : \"comprou\"\n",
    "}\n",
    "\n",
    "dados = dados.rename(columns = mapa)"
   ]
  },
  {
   "cell_type": "code",
   "execution_count": 11,
   "metadata": {},
   "outputs": [],
   "source": [
    "x = dados[[\"principal\", \"como_funciona\", \"contato\"]]\n",
    "y = dados[\"comprou\"]"
   ]
  },
  {
   "cell_type": "code",
   "execution_count": 12,
   "metadata": {},
   "outputs": [
    {
     "name": "stdout",
     "output_type": "stream",
     "text": [
      "Taxa de Acerto: 96.00\n"
     ]
    },
    {
     "name": "stderr",
     "output_type": "stream",
     "text": [
      "c:\\Users\\andre\\AppData\\Local\\Programs\\Python\\Python312\\Lib\\site-packages\\sklearn\\svm\\_classes.py:31: FutureWarning: The default value of `dual` will change from `True` to `'auto'` in 1.5. Set the value of `dual` explicitly to suppress the warning.\n",
      "  warnings.warn(\n"
     ]
    }
   ],
   "source": [
    "from sklearn.model_selection import train_test_split\n",
    "from sklearn.svm import LinearSVC\n",
    "from sklearn.metrics import accuracy_score\n",
    "\n",
    "seed = 20\n",
    "\n",
    "treino_x, teste_x, treino_y, teste_y = train_test_split( # Mapeia as quatro variáveis de uma só vez\n",
    "    x, \n",
    "    y, \n",
    "    random_state = seed, # Evita a aleatoriedade e que a eficácia se altere a cada teste\n",
    "    test_size = 0.25, # Evita de testar 100% dos dados\n",
    "    stratify = y # Evita que a proporção destoe demais\n",
    "    ) \n",
    "\n",
    "model = LinearSVC()\n",
    "model.fit(treino_x, treino_y)\n",
    "\n",
    "previsoes = model.predict(teste_x)\n",
    "\n",
    "taxa_acertos = accuracy_score(teste_y, previsoes) # Calcula a Acurácia\n",
    "\n",
    "print(\"Taxa de Acerto: %.2f\" % (taxa_acertos * 100))"
   ]
  },
  {
   "cell_type": "code",
   "execution_count": 16,
   "metadata": {},
   "outputs": [
    {
     "name": "stdout",
     "output_type": "stream",
     "text": [
      "1.96\n"
     ]
    }
   ],
   "source": [
    "contagem = treino_y.value_counts()\n",
    "\n",
    "proporcao_0_por_1 = contagem[0] / contagem[1]\n",
    "\n",
    "print(proporcao_0_por_1)"
   ]
  },
  {
   "cell_type": "code",
   "execution_count": 17,
   "metadata": {},
   "outputs": [
    {
     "name": "stdout",
     "output_type": "stream",
     "text": [
      "1.96\n"
     ]
    }
   ],
   "source": [
    "contagem = treino_y.value_counts()\n",
    "\n",
    "proporcao_0_por_1 = contagem[0] / contagem[1]\n",
    "\n",
    "print(proporcao_0_por_1)"
   ]
  }
 ],
 "metadata": {
  "kernelspec": {
   "display_name": "Python 3",
   "language": "python",
   "name": "python3"
  },
  "language_info": {
   "codemirror_mode": {
    "name": "ipython",
    "version": 3
   },
   "file_extension": ".py",
   "mimetype": "text/x-python",
   "name": "python",
   "nbconvert_exporter": "python",
   "pygments_lexer": "ipython3",
   "version": "3.12.2"
  }
 },
 "nbformat": 4,
 "nbformat_minor": 2
}
